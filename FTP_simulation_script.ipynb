{
 "cells": [
  {
   "cell_type": "markdown",
   "id": "e162bd1a-11f8-4592-ae0e-71d1eb53a59a",
   "metadata": {},
   "source": [
    "# FTP simulation script\n",
    "\n",
    "This file contains the code of the script that simulates how the FTP server works, used in the masterthesis of Theo Vandeportaele."
   ]
  },
  {
   "cell_type": "code",
   "execution_count": null,
   "id": "c8e306fb-ff2a-4708-a974-1dd47c4cf80f",
   "metadata": {},
   "outputs": [],
   "source": [
    "import os\n",
    "import shutil\n",
    "import time"
   ]
  },
  {
   "cell_type": "code",
   "execution_count": null,
   "id": "4110c3c1-81da-4e1f-87b9-b20bf923716b",
   "metadata": {},
   "outputs": [],
   "source": [
    "# Path where data and folder of data stored are\n",
    "path = '' \n",
    "\n",
    "# folder in path where the data is stored\n",
    "file_path = ''\n",
    "\n",
    "# Full path to folder where data is stored\n",
    "total_path = path + file_path\n",
    "\n",
    "# Full path to folder where the data should be moved to (= file on FTP server)\n",
    "new_path = path + ''"
   ]
  },
  {
   "cell_type": "code",
   "execution_count": null,
   "id": "db834677-9970-4be1-a9b8-ea824af87b81",
   "metadata": {},
   "outputs": [],
   "source": [
    "# Code that moves a file to the new folder, every 60 seconds\n",
    "if os.path.exists(total_path):\n",
    "    files = os.listdir(total_path)\n",
    "\n",
    "    for file_name in files:\n",
    "        source_path = f'{total_path}/{file_name}'\n",
    "        destination_path = f'{new_path}/{file_name}'\n",
    "        shutil.move(source_path, destination_path)\n",
    "        \n",
    "        print(f\"Moved {file_name} to {new_path}\")\n",
    "\n",
    "        time.sleep(60)\n",
    "        # break"
   ]
  },
  {
   "cell_type": "code",
   "execution_count": null,
   "id": "083125c3-b29a-48aa-8b20-f2e390696717",
   "metadata": {},
   "outputs": [],
   "source": []
  },
  {
   "cell_type": "code",
   "execution_count": null,
   "id": "d4f2f087-2d48-4c7b-90ef-f355992e4243",
   "metadata": {},
   "outputs": [],
   "source": []
  },
  {
   "cell_type": "code",
   "execution_count": null,
   "id": "5ead9c2a-4ee2-4627-869c-9cb20ef1e467",
   "metadata": {},
   "outputs": [],
   "source": []
  }
 ],
 "metadata": {
  "kernelspec": {
   "display_name": "Python 3 (ipykernel)",
   "language": "python",
   "name": "python3"
  },
  "language_info": {
   "codemirror_mode": {
    "name": "ipython",
    "version": 3
   },
   "file_extension": ".py",
   "mimetype": "text/x-python",
   "name": "python",
   "nbconvert_exporter": "python",
   "pygments_lexer": "ipython3",
   "version": "3.10.13"
  }
 },
 "nbformat": 4,
 "nbformat_minor": 5
}
